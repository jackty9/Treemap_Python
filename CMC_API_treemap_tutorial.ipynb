{
  "nbformat": 4,
  "nbformat_minor": 0,
  "metadata": {
    "colab": {
      "name": "No_Credentials_CMC API test.ipynb",
      "provenance": [],
      "toc_visible": true,
      "authorship_tag": "ABX9TyMFe58gW4rKAb0gnEjs5TsT",
      "include_colab_link": true
    },
    "kernelspec": {
      "name": "python3",
      "display_name": "Python 3"
    }
  },
  "cells": [
    {
      "cell_type": "markdown",
      "metadata": {
        "id": "view-in-github",
        "colab_type": "text"
      },
      "source": [
        "<a href=\"https://colab.research.google.com/github/jackty9/Treemap_Python/blob/main/CMC_API_treemap_tutorial.ipynb\" target=\"_parent\"><img src=\"https://colab.research.google.com/assets/colab-badge.svg\" alt=\"Open In Colab\"/></a>"
      ]
    },
    {
      "cell_type": "markdown",
      "metadata": {
        "id": "CzmFBWW-LUKB"
      },
      "source": [
        "# API call to data from CMC"
      ]
    },
    {
      "cell_type": "code",
      "metadata": {
        "colab": {
          "base_uri": "https://localhost:8080/"
        },
        "id": "7gezbkSMt6_o",
        "outputId": "0099df48-c043-4835-faf5-a36deacacf89"
      },
      "source": [
        "  #This example uses Python 2.7 and the python-request library.\n",
        "\n",
        "from requests import Request, Session\n",
        "from requests.exceptions import ConnectionError, Timeout, TooManyRedirects\n",
        "import json\n",
        "\n",
        "url = 'https://pro-api.coinmarketcap.com/v1/cryptocurrency/listings/latest'\n",
        "parameters = {\n",
        "  'start':'1',\n",
        "  'limit':'10',\n",
        "  'convert':'USD'\n",
        "}\n",
        "headers = {\n",
        "  'Accepts': 'application/json',\n",
        "  'X-CMC_PRO_API_KEY': '#REPLACE YOUR API KEY HERE#',\n",
        "}\n",
        "\n",
        "session = Session()\n",
        "session.headers.update(headers)\n",
        "\n",
        "try:\n",
        "    response = session.get(url, params=parameters)\n",
        "    data = json.loads(response.text)\n",
        "    print(data)\n",
        "except (ConnectionError, Timeout, TooManyRedirects) as e:\n",
        "    print(e)"
      ],
      "execution_count": null,
      "outputs": [
        {
          "output_type": "stream",
          "text": [
            "{'status': {'timestamp': '2021-03-09T15:01:59.850Z', 'error_code': 0, 'error_message': None, 'elapsed': 12, 'credit_count': 1, 'notice': None, 'total_count': 4272}, 'data': [{'id': 1, 'name': 'Bitcoin', 'symbol': 'BTC', 'slug': 'bitcoin', 'num_market_pairs': 9810, 'date_added': '2013-04-28T00:00:00.000Z', 'tags': ['mineable', 'pow', 'sha-256', 'store-of-value', 'state-channels', 'coinbase-ventures-portfolio', 'three-arrows-capital-portfolio', 'polychain-capital-portfolio'], 'max_supply': 21000000, 'circulating_supply': 18649162, 'total_supply': 18649162, 'platform': None, 'cmc_rank': 1, 'last_updated': '2021-03-09T14:59:02.000Z', 'quote': {'USD': {'price': 54565.080608644785, 'volume_24h': 53360910710.16666, 'percent_change_1h': 1.47692765, 'percent_change_24h': 7.25386034, 'percent_change_7d': 11.29971562, 'percent_change_30d': 41.23158839, 'percent_change_60d': 31.82095972, 'percent_change_90d': 195.81069059, 'market_cap': 1017593027813.6752, 'last_updated': '2021-03-09T14:59:02.000Z'}}}, {'id': 1027, 'name': 'Ethereum', 'symbol': 'ETH', 'slug': 'ethereum', 'num_market_pairs': 6140, 'date_added': '2015-08-07T00:00:00.000Z', 'tags': ['mineable', 'pow', 'smart-contracts', 'coinbase-ventures-portfolio', 'three-arrows-capital-portfolio', 'polychain-capital-portfolio'], 'max_supply': None, 'circulating_supply': 114979419.499, 'total_supply': 114979419.499, 'platform': {'id': 2502, 'name': 'Heco', 'symbol': 'HT', 'slug': 'huobi-token', 'token_address': '0x64ff637fb478863b7468bc97d30a5bf3a428a1fd'}, 'cmc_rank': 2, 'last_updated': '2021-03-09T15:00:03.000Z', 'quote': {'USD': {'price': 1831.6514792067323, 'volume_24h': 25900519960.77467, 'percent_change_1h': 1.2923732, 'percent_change_24h': 5.75943057, 'percent_change_7d': 16.41706772, 'percent_change_30d': 15.6174996, 'percent_change_60d': 45.91122483, 'percent_change_90d': 219.82245605, 'market_cap': 210602223803.67474, 'last_updated': '2021-03-09T15:00:03.000Z'}}}, {'id': 1839, 'name': 'Binance Coin', 'symbol': 'BNB', 'slug': 'binance-coin', 'num_market_pairs': 507, 'date_added': '2017-07-25T00:00:00.000Z', 'tags': ['marketplace', 'payments'], 'max_supply': 170532785, 'circulating_supply': 154532785, 'total_supply': 170532785, 'platform': None, 'cmc_rank': 3, 'last_updated': '2021-03-09T15:00:11.000Z', 'quote': {'USD': {'price': 274.75027064780784, 'volume_24h': 7146930473.946863, 'percent_change_1h': 3.17819109, 'percent_change_24h': 17.39971537, 'percent_change_7d': 9.60515587, 'percent_change_30d': 293.43481026, 'percent_change_60d': 540.19761375, 'percent_change_90d': 875.3240765, 'market_cap': 42457924502.709496, 'last_updated': '2021-03-09T15:00:11.000Z'}}}, {'id': 2010, 'name': 'Cardano', 'symbol': 'ADA', 'slug': 'cardano', 'num_market_pairs': 245, 'date_added': '2017-10-01T00:00:00.000Z', 'tags': ['mineable', 'dpos', 'pos', 'platform', 'research', 'smart-contracts', 'staking', 'binance-chain'], 'max_supply': 45000000000, 'circulating_supply': 31948309440.747814, 'total_supply': 45000000000, 'platform': None, 'cmc_rank': 4, 'last_updated': '2021-03-09T15:00:18.000Z', 'quote': {'USD': {'price': 1.18053005843938, 'volume_24h': 4644986749.408892, 'percent_change_1h': 1.48947779, 'percent_change_24h': 5.51198837, 'percent_change_7d': -4.66895006, 'percent_change_30d': 82.8818423, 'percent_change_60d': 281.64711918, 'percent_change_90d': 718.51636251, 'market_cap': 37715939611.12541, 'last_updated': '2021-03-09T15:00:18.000Z'}}}, {'id': 825, 'name': 'Tether', 'symbol': 'USDT', 'slug': 'tether', 'num_market_pairs': 11212, 'date_added': '2015-02-25T00:00:00.000Z', 'tags': ['store-of-value', 'payments', 'stablecoin', 'stablecoin-asset-backed'], 'max_supply': None, 'circulating_supply': 36793781375.18945, 'total_supply': 37638167440.84519, 'platform': {'id': 1027, 'name': 'Ethereum', 'symbol': 'ETH', 'slug': 'ethereum', 'token_address': '0xdac17f958d2ee523a2206206994597c13d831ec7'}, 'cmc_rank': 5, 'last_updated': '2021-03-09T15:00:12.000Z', 'quote': {'USD': {'price': 1.00071081541916, 'volume_24h': 95751433696.45921, 'percent_change_1h': 0.01919391, 'percent_change_24h': 0.0145821, 'percent_change_7d': -0.02735902, 'percent_change_30d': -0.0190561, 'percent_change_60d': 0.02429304, 'percent_change_90d': 0.04639042, 'market_cap': 36819934962.32014, 'last_updated': '2021-03-09T15:00:12.000Z'}}}, {'id': 6636, 'name': 'Polkadot', 'symbol': 'DOT', 'slug': 'polkadot-new', 'num_market_pairs': 156, 'date_added': '2020-08-19T00:00:00.000Z', 'tags': ['substrate', 'polkadot', 'binance-chain', 'dot-ecosystem', 'three-arrows-capital-portfolio', 'polychain-capital-portfolio'], 'max_supply': None, 'circulating_supply': 918211499.2065685, 'total_supply': 1054027405.860306, 'platform': {'id': 2502, 'name': 'Heco', 'symbol': 'HT', 'slug': 'huobi-token', 'token_address': '0xa2c49cee16a5e5bdefde931107dc1fae9f7773e3'}, 'cmc_rank': 6, 'last_updated': '2021-03-09T15:01:06.000Z', 'quote': {'USD': {'price': 35.94307271683796, 'volume_24h': 2205321416.8706956, 'percent_change_1h': 0.97663627, 'percent_change_24h': 5.29039737, 'percent_change_7d': -3.987559, 'percent_change_30d': 78.58597089, 'percent_change_60d': 283.22998628, 'percent_change_90d': 630.64530389, 'market_cap': 33003342685.41849, 'last_updated': '2021-03-09T15:01:06.000Z'}}}, {'id': 52, 'name': 'XRP', 'symbol': 'XRP', 'slug': 'xrp', 'num_market_pairs': 674, 'date_added': '2013-08-04T00:00:00.000Z', 'tags': ['medium-of-exchange', 'enterprise-solutions', 'binance-chain'], 'max_supply': 100000000000, 'circulating_supply': 45404028640, 'total_supply': 99990831162, 'platform': None, 'cmc_rank': 7, 'last_updated': '2021-03-09T15:01:03.000Z', 'quote': {'USD': {'price': 0.47932015595943, 'volume_24h': 3132260663.524527, 'percent_change_1h': 0.59991133, 'percent_change_24h': 0.89372805, 'percent_change_7d': 7.60732217, 'percent_change_30d': 10.01210246, 'percent_change_60d': 47.69826446, 'percent_change_90d': -14.5104945, 'market_cap': 21763066088.91123, 'last_updated': '2021-03-09T15:01:03.000Z'}}}, {'id': 7083, 'name': 'Uniswap', 'symbol': 'UNI', 'slug': 'uniswap', 'num_market_pairs': 206, 'date_added': '2020-09-17T00:00:00.000Z', 'tags': ['defi', 'dao', 'amm', 'coinbase-ventures-portfolio', 'three-arrows-capital-portfolio'], 'max_supply': 1000000000, 'circulating_supply': 521213789.03406745, 'total_supply': 1000000000, 'platform': {'id': 1027, 'name': 'Ethereum', 'symbol': 'ETH', 'slug': 'ethereum', 'token_address': '0x1f9840a85d5af5bf1d1762f925bdaddc4201f984'}, 'cmc_rank': 8, 'last_updated': '2021-03-09T15:00:17.000Z', 'quote': {'USD': {'price': 33.15494878141514, 'volume_24h': 909964922.535444, 'percent_change_1h': 0.80488244, 'percent_change_24h': -0.03957237, 'percent_change_7d': 24.35316168, 'percent_change_30d': 79.75614069, 'percent_change_60d': 440.81754009, 'percent_change_90d': 878.7586349, 'market_cap': 17280816479.591824, 'last_updated': '2021-03-09T15:00:17.000Z'}}}, {'id': 2, 'name': 'Litecoin', 'symbol': 'LTC', 'slug': 'litecoin', 'num_market_pairs': 758, 'date_added': '2013-04-28T00:00:00.000Z', 'tags': ['mineable', 'pow', 'scrypt', 'medium-of-exchange', 'binance-chain'], 'max_supply': 84000000, 'circulating_supply': 66629949.30816718, 'total_supply': 66629949.30816718, 'platform': {'id': 2502, 'name': 'Heco', 'symbol': 'HT', 'slug': 'huobi-token', 'token_address': '0xecb56cf772b5c9a6907fb7d32387da2fcbfb63b4'}, 'cmc_rank': 9, 'last_updated': '2021-03-09T15:01:02.000Z', 'quote': {'USD': {'price': 199.24997586323232, 'volume_24h': 5070811118.915561, 'percent_change_1h': 1.43213739, 'percent_change_24h': 7.50218921, 'percent_change_7d': 9.38967172, 'percent_change_30d': 31.70732575, 'percent_change_60d': 13.91083032, 'percent_change_90d': 157.24337389, 'market_cap': 13276015791.420704, 'last_updated': '2021-03-09T15:01:02.000Z'}}}, {'id': 1975, 'name': 'Chainlink', 'symbol': 'LINK', 'slug': 'chainlink', 'num_market_pairs': 481, 'date_added': '2017-09-20T00:00:00.000Z', 'tags': ['platform', 'defi', 'oracles', 'smart-contracts', 'substrate', 'polkadot', 'dot-ecosystem'], 'max_supply': 1000000000, 'circulating_supply': 411509556.43444455, 'total_supply': 1000000000, 'platform': {'id': 1027, 'name': 'Ethereum', 'symbol': 'ETH', 'slug': 'ethereum', 'token_address': '0x514910771af9ca656af840dff83e8264ecf986ca'}, 'cmc_rank': 10, 'last_updated': '2021-03-09T15:00:15.000Z', 'quote': {'USD': {'price': 30.93076593804913, 'volume_24h': 1962995556.4578843, 'percent_change_1h': 1.40254336, 'percent_change_24h': 3.83947218, 'percent_change_7d': 4.00616212, 'percent_change_30d': 26.60344523, 'percent_change_60d': 95.2908737, 'percent_change_90d': 149.60420102, 'market_cap': 12728305771.344223, 'last_updated': '2021-03-09T15:00:15.000Z'}}}]}\n"
          ],
          "name": "stdout"
        }
      ]
    },
    {
      "cell_type": "code",
      "metadata": {
        "colab": {
          "base_uri": "https://localhost:8080/",
          "height": 347
        },
        "id": "UQuOgxPsqRjp",
        "outputId": "36b4beb1-cccb-4813-b384-b599cbbc46a1"
      },
      "source": [
        "import pandas as pd\n",
        "\n",
        "#normalize the data into dataframe format\n",
        "df = pd.json_normalize(data[\"data\"])\n",
        "cols_to_keep = ['name','symbol','cmc_rank','quote.USD.price','quote.USD.percent_change_24h','quote.USD.market_cap',]\n",
        "df_final = df[cols_to_keep]\n",
        "#rename columns\n",
        "df_final.columns = ['name','symbol','cmc_rank','USD_price','USD_percent_change_24h','USD_market_cap',]\n",
        "#print the table\n",
        "df_final"
      ],
      "execution_count": null,
      "outputs": [
        {
          "output_type": "execute_result",
          "data": {
            "text/html": [
              "<div>\n",
              "<style scoped>\n",
              "    .dataframe tbody tr th:only-of-type {\n",
              "        vertical-align: middle;\n",
              "    }\n",
              "\n",
              "    .dataframe tbody tr th {\n",
              "        vertical-align: top;\n",
              "    }\n",
              "\n",
              "    .dataframe thead th {\n",
              "        text-align: right;\n",
              "    }\n",
              "</style>\n",
              "<table border=\"1\" class=\"dataframe\">\n",
              "  <thead>\n",
              "    <tr style=\"text-align: right;\">\n",
              "      <th></th>\n",
              "      <th>name</th>\n",
              "      <th>symbol</th>\n",
              "      <th>cmc_rank</th>\n",
              "      <th>USD_price</th>\n",
              "      <th>USD_percent_change_24h</th>\n",
              "      <th>USD_market_cap</th>\n",
              "    </tr>\n",
              "  </thead>\n",
              "  <tbody>\n",
              "    <tr>\n",
              "      <th>0</th>\n",
              "      <td>Bitcoin</td>\n",
              "      <td>BTC</td>\n",
              "      <td>1</td>\n",
              "      <td>54565.080609</td>\n",
              "      <td>7.253860</td>\n",
              "      <td>1.017593e+12</td>\n",
              "    </tr>\n",
              "    <tr>\n",
              "      <th>1</th>\n",
              "      <td>Ethereum</td>\n",
              "      <td>ETH</td>\n",
              "      <td>2</td>\n",
              "      <td>1831.651479</td>\n",
              "      <td>5.759431</td>\n",
              "      <td>2.106022e+11</td>\n",
              "    </tr>\n",
              "    <tr>\n",
              "      <th>2</th>\n",
              "      <td>Binance Coin</td>\n",
              "      <td>BNB</td>\n",
              "      <td>3</td>\n",
              "      <td>274.750271</td>\n",
              "      <td>17.399715</td>\n",
              "      <td>4.245792e+10</td>\n",
              "    </tr>\n",
              "    <tr>\n",
              "      <th>3</th>\n",
              "      <td>Cardano</td>\n",
              "      <td>ADA</td>\n",
              "      <td>4</td>\n",
              "      <td>1.180530</td>\n",
              "      <td>5.511988</td>\n",
              "      <td>3.771594e+10</td>\n",
              "    </tr>\n",
              "    <tr>\n",
              "      <th>4</th>\n",
              "      <td>Tether</td>\n",
              "      <td>USDT</td>\n",
              "      <td>5</td>\n",
              "      <td>1.000711</td>\n",
              "      <td>0.014582</td>\n",
              "      <td>3.681993e+10</td>\n",
              "    </tr>\n",
              "    <tr>\n",
              "      <th>5</th>\n",
              "      <td>Polkadot</td>\n",
              "      <td>DOT</td>\n",
              "      <td>6</td>\n",
              "      <td>35.943073</td>\n",
              "      <td>5.290397</td>\n",
              "      <td>3.300334e+10</td>\n",
              "    </tr>\n",
              "    <tr>\n",
              "      <th>6</th>\n",
              "      <td>XRP</td>\n",
              "      <td>XRP</td>\n",
              "      <td>7</td>\n",
              "      <td>0.479320</td>\n",
              "      <td>0.893728</td>\n",
              "      <td>2.176307e+10</td>\n",
              "    </tr>\n",
              "    <tr>\n",
              "      <th>7</th>\n",
              "      <td>Uniswap</td>\n",
              "      <td>UNI</td>\n",
              "      <td>8</td>\n",
              "      <td>33.154949</td>\n",
              "      <td>-0.039572</td>\n",
              "      <td>1.728082e+10</td>\n",
              "    </tr>\n",
              "    <tr>\n",
              "      <th>8</th>\n",
              "      <td>Litecoin</td>\n",
              "      <td>LTC</td>\n",
              "      <td>9</td>\n",
              "      <td>199.249976</td>\n",
              "      <td>7.502189</td>\n",
              "      <td>1.327602e+10</td>\n",
              "    </tr>\n",
              "    <tr>\n",
              "      <th>9</th>\n",
              "      <td>Chainlink</td>\n",
              "      <td>LINK</td>\n",
              "      <td>10</td>\n",
              "      <td>30.930766</td>\n",
              "      <td>3.839472</td>\n",
              "      <td>1.272831e+10</td>\n",
              "    </tr>\n",
              "  </tbody>\n",
              "</table>\n",
              "</div>"
            ],
            "text/plain": [
              "           name symbol  ...  USD_percent_change_24h  USD_market_cap\n",
              "0       Bitcoin    BTC  ...                7.253860    1.017593e+12\n",
              "1      Ethereum    ETH  ...                5.759431    2.106022e+11\n",
              "2  Binance Coin    BNB  ...               17.399715    4.245792e+10\n",
              "3       Cardano    ADA  ...                5.511988    3.771594e+10\n",
              "4        Tether   USDT  ...                0.014582    3.681993e+10\n",
              "5      Polkadot    DOT  ...                5.290397    3.300334e+10\n",
              "6           XRP    XRP  ...                0.893728    2.176307e+10\n",
              "7       Uniswap    UNI  ...               -0.039572    1.728082e+10\n",
              "8      Litecoin    LTC  ...                7.502189    1.327602e+10\n",
              "9     Chainlink   LINK  ...                3.839472    1.272831e+10\n",
              "\n",
              "[10 rows x 6 columns]"
            ]
          },
          "metadata": {
            "tags": []
          },
          "execution_count": 3
        }
      ]
    },
    {
      "cell_type": "markdown",
      "metadata": {
        "id": "SqSSaFcDLWmI"
      },
      "source": [
        "# Squarify"
      ]
    },
    {
      "cell_type": "code",
      "metadata": {
        "colab": {
          "base_uri": "https://localhost:8080/",
          "height": 723
        },
        "id": "DwnOGnpV0SpD",
        "outputId": "645a3ac7-0eba-4337-8a52-4f8c53c61849"
      },
      "source": [
        "import matplotlib\n",
        "import matplotlib.pyplot as plt\n",
        "#!pip install squarify\n",
        "import squarify \n",
        "\n",
        "#load data\n",
        "sizes=df_final[\"USD_market_cap\"]\n",
        "label=df_final[\"name\"]\n",
        "\n",
        "# color scale on the price development \n",
        "# min and max values\n",
        "cmap = matplotlib.cm.RdYlGn #RedYellowGreen\n",
        "mini=min(df_final[\"USD_percent_change_24h\"])\n",
        "maxi=max(df_final[\"USD_percent_change_24h\"])\n",
        "norm = matplotlib.colors.Normalize(vmin=mini, vmax=maxi)\n",
        "colors = [cmap(norm(value)) for value in df_final[\"USD_percent_change_24h\"]]\n",
        "\n",
        "# labels in treemap squares\n",
        "labels = [\"%s\\n%d USD\\n%0.2f%%\" % (label) for label in zip(df_final.symbol, df_final[\"USD_price\"], df_final[\"USD_percent_change_24h\"])]\n",
        "\n",
        "# make plot\n",
        "fig = plt.figure(figsize=(20, 10))\n",
        "ax = fig.add_subplot(111, aspect=\"auto\")\n",
        "ax = squarify.plot(df_final[\"USD_market_cap\"], color=colors, label=labels,  alpha=.8)\n",
        "ax.set_title(\"Cryptomarket price change last 24 hours\\n\", fontsize=18)\n",
        "\n",
        "# plot title and color bar\n",
        "img = plt.imshow([df_final[\"USD_percent_change_24h\"]], cmap=cmap)\n",
        "img.set_visible(True)\n",
        "fig.colorbar(img, orientation=\"vertical\", shrink=.96)\n",
        "fig.text(.76, .9, \"Percentage change\", fontsize=14)\n",
        "\n",
        "# if you want to export the figure\n",
        "#plt.savefig(\"cmc_treemaps.png\")\n",
        "plt.show()"
      ],
      "execution_count": null,
      "outputs": [
        {
          "output_type": "stream",
          "text": [
            "Collecting squarify\n",
            "  Downloading https://files.pythonhosted.org/packages/0b/2b/2e77c35326efec19819cd1d729540d4d235e6c2a3f37658288a363a67da5/squarify-0.4.3-py3-none-any.whl\n",
            "Installing collected packages: squarify\n",
            "Successfully installed squarify-0.4.3\n"
          ],
          "name": "stdout"
        },
        {
          "output_type": "display_data",
          "data": {
            "image/png": "[encoded data removed]",
            "text/plain": [
              "<Figure size 1440x720 with 2 Axes>"
            ]
          },
          "metadata": {
            "tags": [],
            "needs_background": "light"
          }
        }
      ]
    },
    {
      "cell_type": "markdown",
      "metadata": {
        "id": "O-BnsUUgtnRf"
      },
      "source": [
        "#Plotly"
      ]
    },
    {
      "cell_type": "code",
      "metadata": {
        "colab": {
          "base_uri": "https://localhost:8080/",
          "height": 542
        },
        "id": "z_H21Ac1vmX9",
        "outputId": "d1acbf6a-cb5f-4df4-935f-612800e36ee1"
      },
      "source": [
        "#!pip install --upgrade plotly\n",
        "import plotly.graph_objects as go\n",
        "import plotly.express as px\n",
        "\n",
        "fig = px.treemap(df_final, \n",
        "                 path=['name'], \n",
        "                 values='USD_market_cap',\n",
        "                 color_continuous_scale='RdYlGn',\n",
        "                 color='USD_percent_change_24h',            \n",
        "                 )\n",
        "fig.update_layout(title_text='Cryptomarket price change last 24 hours', title_x=0.5)\n",
        "fig.show()"
      ],
      "execution_count": null,
      "outputs": [
        {
          "output_type": "display_data",
          "data": {
            "text/html": [
              "<html>\n",
              "<head><meta charset=\"utf-8\" /></head>\n",
              "<body>\n",
              "    <div>            <script src=\"https://cdnjs.cloudflare.com/ajax/libs/mathjax/2.7.5/MathJax.js?config=TeX-AMS-MML_SVG\"></script><script type=\"text/javascript\">if (window.MathJax) {MathJax.Hub.Config({SVG: {font: \"STIX-Web\"}});}</script>                <script type=\"text/javascript\">window.PlotlyConfig = {MathJaxConfig: 'local'};</script>\n",
              "        <script src=\"https://cdn.plot.ly/plotly-latest.min.js\"></script>                <div id=\"b252d327-6851-44ba-8a12-5fc2e4668296\" class=\"plotly-graph-div\" style=\"height:525px; width:100%;\"></div>            <script type=\"text/javascript\">                                    window.PLOTLYENV=window.PLOTLYENV || {};                                    if (document.getElementById(\"b252d327-6851-44ba-8a12-5fc2e4668296\")) {                    Plotly.newPlot(                        \"b252d327-6851-44ba-8a12-5fc2e4668296\",                        [{\"branchvalues\": \"total\", \"customdata\": [[17.39971537], [7.25386034], [5.51198837], [3.8394721800000005], [5.75943057], [7.50218921], [5.29039737], [0.0145821], [-0.03957237], [0.89372805]], \"domain\": {\"x\": [0.0, 1.0], \"y\": [0.0, 1.0]}, \"hovertemplate\": \"labels=%{label}<br>USD_market_cap=%{value}<br>parent=%{parent}<br>id=%{id}<br>USD_percent_change_24h=%{color}<extra></extra>\", \"ids\": [\"Binance Coin\", \"Bitcoin\", \"Cardano\", \"Chainlink\", \"Ethereum\", \"Litecoin\", \"Polkadot\", \"Tether\", \"Uniswap\", \"XRP\"], \"labels\": [\"Binance Coin\", \"Bitcoin\", \"Cardano\", \"Chainlink\", \"Ethereum\", \"Litecoin\", \"Polkadot\", \"Tether\", \"Uniswap\", \"XRP\"], \"marker\": {\"coloraxis\": \"coloraxis\", \"colors\": [17.39971537, 7.25386034, 5.51198837, 3.8394721800000005, 5.75943057, 7.50218921, 5.29039737, 0.0145821, -0.03957237, 0.89372805]}, \"name\": \"\", \"parents\": [\"\", \"\", \"\", \"\", \"\", \"\", \"\", \"\", \"\", \"\"], \"type\": \"treemap\", \"values\": [42457924502.709496, 1017593027813.6752, 37715939611.12541, 12728305771.344223, 210602223803.67474, 13276015791.420704, 33003342685.41849, 36819934962.32014, 17280816479.591824, 21763066088.91123]}],                        {\"coloraxis\": {\"colorbar\": {\"title\": {\"text\": \"USD_percent_change_24h\"}}, \"colorscale\": [[0.0, \"rgb(165,0,38)\"], [0.1, \"rgb(215,48,39)\"], [0.2, \"rgb(244,109,67)\"], [0.3, \"rgb(253,174,97)\"], [0.4, \"rgb(254,224,139)\"], [0.5, \"rgb(255,255,191)\"], [0.6, \"rgb(217,239,139)\"], [0.7, \"rgb(166,217,106)\"], [0.8, \"rgb(102,189,99)\"], [0.9, \"rgb(26,152,80)\"], [1.0, \"rgb(0,104,55)\"]]}, \"legend\": {\"tracegroupgap\": 0}, \"margin\": {\"t\": 60}, \"template\": {\"data\": {\"bar\": [{\"error_x\": {\"color\": \"#2a3f5f\"}, \"error_y\": {\"color\": \"#2a3f5f\"}, \"marker\": {\"line\": {\"color\": \"#E5ECF6\", \"width\": 0.5}}, \"type\": \"bar\"}], \"barpolar\": [{\"marker\": {\"line\": {\"color\": \"#E5ECF6\", \"width\": 0.5}}, \"type\": \"barpolar\"}], \"carpet\": [{\"aaxis\": {\"endlinecolor\": \"#2a3f5f\", \"gridcolor\": \"white\", \"linecolor\": \"white\", \"minorgridcolor\": \"white\", \"startlinecolor\": \"#2a3f5f\"}, \"baxis\": {\"endlinecolor\": \"#2a3f5f\", \"gridcolor\": \"white\", \"linecolor\": \"white\", \"minorgridcolor\": \"white\", \"startlinecolor\": \"#2a3f5f\"}, \"type\": \"carpet\"}], \"choropleth\": [{\"colorbar\": {\"outlinewidth\": 0, \"ticks\": \"\"}, \"type\": \"choropleth\"}], \"contour\": [{\"colorbar\": {\"outlinewidth\": 0, \"ticks\": \"\"}, \"colorscale\": [[0.0, \"#0d0887\"], [0.1111111111111111, \"#46039f\"], [0.2222222222222222, \"#7201a8\"], [0.3333333333333333, \"#9c179e\"], [0.4444444444444444, \"#bd3786\"], [0.5555555555555556, \"#d8576b\"], [0.6666666666666666, \"#ed7953\"], [0.7777777777777778, \"#fb9f3a\"], [0.8888888888888888, \"#fdca26\"], [1.0, \"#f0f921\"]], \"type\": \"contour\"}], \"contourcarpet\": [{\"colorbar\": {\"outlinewidth\": 0, \"ticks\": \"\"}, \"type\": \"contourcarpet\"}], \"heatmap\": [{\"colorbar\": {\"outlinewidth\": 0, \"ticks\": \"\"}, \"colorscale\": [[0.0, \"#0d0887\"], [0.1111111111111111, \"#46039f\"], [0.2222222222222222, \"#7201a8\"], [0.3333333333333333, \"#9c179e\"], [0.4444444444444444, \"#bd3786\"], [0.5555555555555556, \"#d8576b\"], [0.6666666666666666, \"#ed7953\"], [0.7777777777777778, \"#fb9f3a\"], [0.8888888888888888, \"#fdca26\"], [1.0, \"#f0f921\"]], \"type\": \"heatmap\"}], \"heatmapgl\": [{\"colorbar\": {\"outlinewidth\": 0, \"ticks\": \"\"}, \"colorscale\": [[0.0, \"#0d0887\"], [0.1111111111111111, \"#46039f\"], [0.2222222222222222, \"#7201a8\"], [0.3333333333333333, \"#9c179e\"], [0.4444444444444444, \"#bd3786\"], [0.5555555555555556, \"#d8576b\"], [0.6666666666666666, \"#ed7953\"], [0.7777777777777778, \"#fb9f3a\"], [0.8888888888888888, \"#fdca26\"], [1.0, \"#f0f921\"]], \"type\": \"heatmapgl\"}], \"histogram\": [{\"marker\": {\"colorbar\": {\"outlinewidth\": 0, \"ticks\": \"\"}}, \"type\": \"histogram\"}], \"histogram2d\": [{\"colorbar\": {\"outlinewidth\": 0, \"ticks\": \"\"}, \"colorscale\": [[0.0, \"#0d0887\"], [0.1111111111111111, \"#46039f\"], [0.2222222222222222, \"#7201a8\"], [0.3333333333333333, \"#9c179e\"], [0.4444444444444444, \"#bd3786\"], [0.5555555555555556, \"#d8576b\"], [0.6666666666666666, \"#ed7953\"], [0.7777777777777778, \"#fb9f3a\"], [0.8888888888888888, \"#fdca26\"], [1.0, \"#f0f921\"]], \"type\": \"histogram2d\"}], \"histogram2dcontour\": [{\"colorbar\": {\"outlinewidth\": 0, \"ticks\": \"\"}, \"colorscale\": [[0.0, \"#0d0887\"], [0.1111111111111111, \"#46039f\"], [0.2222222222222222, \"#7201a8\"], [0.3333333333333333, \"#9c179e\"], [0.4444444444444444, \"#bd3786\"], [0.5555555555555556, \"#d8576b\"], [0.6666666666666666, \"#ed7953\"], [0.7777777777777778, \"#fb9f3a\"], [0.8888888888888888, \"#fdca26\"], [1.0, \"#f0f921\"]], \"type\": \"histogram2dcontour\"}], \"mesh3d\": [{\"colorbar\": {\"outlinewidth\": 0, \"ticks\": \"\"}, \"type\": \"mesh3d\"}], \"parcoords\": [{\"line\": {\"colorbar\": {\"outlinewidth\": 0, \"ticks\": \"\"}}, \"type\": \"parcoords\"}], \"pie\": [{\"automargin\": true, \"type\": \"pie\"}], \"scatter\": [{\"marker\": {\"colorbar\": {\"outlinewidth\": 0, \"ticks\": \"\"}}, \"type\": \"scatter\"}], \"scatter3d\": [{\"line\": {\"colorbar\": {\"outlinewidth\": 0, \"ticks\": \"\"}}, \"marker\": {\"colorbar\": {\"outlinewidth\": 0, \"ticks\": \"\"}}, \"type\": \"scatter3d\"}], \"scattercarpet\": [{\"marker\": {\"colorbar\": {\"outlinewidth\": 0, \"ticks\": \"\"}}, \"type\": \"scattercarpet\"}], \"scattergeo\": [{\"marker\": {\"colorbar\": {\"outlinewidth\": 0, \"ticks\": \"\"}}, \"type\": \"scattergeo\"}], \"scattergl\": [{\"marker\": {\"colorbar\": {\"outlinewidth\": 0, \"ticks\": \"\"}}, \"type\": \"scattergl\"}], \"scattermapbox\": [{\"marker\": {\"colorbar\": {\"outlinewidth\": 0, \"ticks\": \"\"}}, \"type\": \"scattermapbox\"}], \"scatterpolar\": [{\"marker\": {\"colorbar\": {\"outlinewidth\": 0, \"ticks\": \"\"}}, \"type\": \"scatterpolar\"}], \"scatterpolargl\": [{\"marker\": {\"colorbar\": {\"outlinewidth\": 0, \"ticks\": \"\"}}, \"type\": \"scatterpolargl\"}], \"scatterternary\": [{\"marker\": {\"colorbar\": {\"outlinewidth\": 0, \"ticks\": \"\"}}, \"type\": \"scatterternary\"}], \"surface\": [{\"colorbar\": {\"outlinewidth\": 0, \"ticks\": \"\"}, \"colorscale\": [[0.0, \"#0d0887\"], [0.1111111111111111, \"#46039f\"], [0.2222222222222222, \"#7201a8\"], [0.3333333333333333, \"#9c179e\"], [0.4444444444444444, \"#bd3786\"], [0.5555555555555556, \"#d8576b\"], [0.6666666666666666, \"#ed7953\"], [0.7777777777777778, \"#fb9f3a\"], [0.8888888888888888, \"#fdca26\"], [1.0, \"#f0f921\"]], \"type\": \"surface\"}], \"table\": [{\"cells\": {\"fill\": {\"color\": \"#EBF0F8\"}, \"line\": {\"color\": \"white\"}}, \"header\": {\"fill\": {\"color\": \"#C8D4E3\"}, \"line\": {\"color\": \"white\"}}, \"type\": \"table\"}]}, \"layout\": {\"annotationdefaults\": {\"arrowcolor\": \"#2a3f5f\", \"arrowhead\": 0, \"arrowwidth\": 1}, \"autotypenumbers\": \"strict\", \"coloraxis\": {\"colorbar\": {\"outlinewidth\": 0, \"ticks\": \"\"}}, \"colorscale\": {\"diverging\": [[0, \"#8e0152\"], [0.1, \"#c51b7d\"], [0.2, \"#de77ae\"], [0.3, \"#f1b6da\"], [0.4, \"#fde0ef\"], [0.5, \"#f7f7f7\"], [0.6, \"#e6f5d0\"], [0.7, \"#b8e186\"], [0.8, \"#7fbc41\"], [0.9, \"#4d9221\"], [1, \"#276419\"]], \"sequential\": [[0.0, \"#0d0887\"], [0.1111111111111111, \"#46039f\"], [0.2222222222222222, \"#7201a8\"], [0.3333333333333333, \"#9c179e\"], [0.4444444444444444, \"#bd3786\"], [0.5555555555555556, \"#d8576b\"], [0.6666666666666666, \"#ed7953\"], [0.7777777777777778, \"#fb9f3a\"], [0.8888888888888888, \"#fdca26\"], [1.0, \"#f0f921\"]], \"sequentialminus\": [[0.0, \"#0d0887\"], [0.1111111111111111, \"#46039f\"], [0.2222222222222222, \"#7201a8\"], [0.3333333333333333, \"#9c179e\"], [0.4444444444444444, \"#bd3786\"], [0.5555555555555556, \"#d8576b\"], [0.6666666666666666, \"#ed7953\"], [0.7777777777777778, \"#fb9f3a\"], [0.8888888888888888, \"#fdca26\"], [1.0, \"#f0f921\"]]}, \"colorway\": [\"#636efa\", \"#EF553B\", \"#00cc96\", \"#ab63fa\", \"#FFA15A\", \"#19d3f3\", \"#FF6692\", \"#B6E880\", \"#FF97FF\", \"#FECB52\"], \"font\": {\"color\": \"#2a3f5f\"}, \"geo\": {\"bgcolor\": \"white\", \"lakecolor\": \"white\", \"landcolor\": \"#E5ECF6\", \"showlakes\": true, \"showland\": true, \"subunitcolor\": \"white\"}, \"hoverlabel\": {\"align\": \"left\"}, \"hovermode\": \"closest\", \"mapbox\": {\"style\": \"light\"}, \"paper_bgcolor\": \"white\", \"plot_bgcolor\": \"#E5ECF6\", \"polar\": {\"angularaxis\": {\"gridcolor\": \"white\", \"linecolor\": \"white\", \"ticks\": \"\"}, \"bgcolor\": \"#E5ECF6\", \"radialaxis\": {\"gridcolor\": \"white\", \"linecolor\": \"white\", \"ticks\": \"\"}}, \"scene\": {\"xaxis\": {\"backgroundcolor\": \"#E5ECF6\", \"gridcolor\": \"white\", \"gridwidth\": 2, \"linecolor\": \"white\", \"showbackground\": true, \"ticks\": \"\", \"zerolinecolor\": \"white\"}, \"yaxis\": {\"backgroundcolor\": \"#E5ECF6\", \"gridcolor\": \"white\", \"gridwidth\": 2, \"linecolor\": \"white\", \"showbackground\": true, \"ticks\": \"\", \"zerolinecolor\": \"white\"}, \"zaxis\": {\"backgroundcolor\": \"#E5ECF6\", \"gridcolor\": \"white\", \"gridwidth\": 2, \"linecolor\": \"white\", \"showbackground\": true, \"ticks\": \"\", \"zerolinecolor\": \"white\"}}, \"shapedefaults\": {\"line\": {\"color\": \"#2a3f5f\"}}, \"ternary\": {\"aaxis\": {\"gridcolor\": \"white\", \"linecolor\": \"white\", \"ticks\": \"\"}, \"baxis\": {\"gridcolor\": \"white\", \"linecolor\": \"white\", \"ticks\": \"\"}, \"bgcolor\": \"#E5ECF6\", \"caxis\": {\"gridcolor\": \"white\", \"linecolor\": \"white\", \"ticks\": \"\"}}, \"title\": {\"x\": 0.05}, \"xaxis\": {\"automargin\": true, \"gridcolor\": \"white\", \"linecolor\": \"white\", \"ticks\": \"\", \"title\": {\"standoff\": 15}, \"zerolinecolor\": \"white\", \"zerolinewidth\": 2}, \"yaxis\": {\"automargin\": true, \"gridcolor\": \"white\", \"linecolor\": \"white\", \"ticks\": \"\", \"title\": {\"standoff\": 15}, \"zerolinecolor\": \"white\", \"zerolinewidth\": 2}}}, \"title\": {\"text\": \"Cryptomarket price change last 24 hours\", \"x\": 0.5}},                        {\"responsive\": true}                    ).then(function(){\n",
              "                            \n",
              "var gd = document.getElementById('b252d327-6851-44ba-8a12-5fc2e4668296');\n",
              "var x = new MutationObserver(function (mutations, observer) {{\n",
              "        var display = window.getComputedStyle(gd).display;\n",
              "        if (!display || display === 'none') {{\n",
              "            console.log([gd, 'removed!']);\n",
              "            Plotly.purge(gd);\n",
              "            observer.disconnect();\n",
              "        }}\n",
              "}});\n",
              "\n",
              "// Listen for the removal of the full notebook cells\n",
              "var notebookContainer = gd.closest('#notebook-container');\n",
              "if (notebookContainer) {{\n",
              "    x.observe(notebookContainer, {childList: true});\n",
              "}}\n",
              "\n",
              "// Listen for the clearing of the current output cell\n",
              "var outputEl = gd.closest('.output');\n",
              "if (outputEl) {{\n",
              "    x.observe(outputEl, {childList: true});\n",
              "}}\n",
              "\n",
              "                        })                };                            </script>        </div>\n",
              "</body>\n",
              "</html>"
            ]
          },
          "metadata": {
            "tags": []
          }
        }
      ]
    },
    {
      "cell_type": "code",
      "metadata": {
        "colab": {
          "base_uri": "https://localhost:8080/",
          "height": 35
        },
        "id": "aIMIacDCy2LI",
        "outputId": "211929b3-0031-4317-e88c-9e5b88252e62"
      },
      "source": [
        "#BONUS\n",
        "#To push your GC plot to Plotly Studio automatically\n",
        "#!pip install chart_studio\n",
        "import chart_studio \n",
        "import chart_studio.plotly as py\n",
        "\n",
        "username = '#REPLACE YOUR USERNAME HERE#' # your username\n",
        "api_key = '#REPLACE YOUR API KEY HERE#' # your api key - go to profile > settings > regenerate key\n",
        "chart_studio.tools.set_credentials_file(username=username, api_key=api_key)\n",
        "py.plot(fig, filename = 'cmc_treemap', auto_open=True)"
      ],
      "execution_count": null,
      "outputs": [
        {
          "output_type": "execute_result",
          "data": {
            "application/vnd.google.colaboratory.intrinsic+json": {
              "type": "string"
            },
            "text/plain": [
              "'https://plotly.com/~jackty92/11/'"
            ]
          },
          "metadata": {
            "tags": []
          },
          "execution_count": 11
        }
      ]
    }
  ]
}